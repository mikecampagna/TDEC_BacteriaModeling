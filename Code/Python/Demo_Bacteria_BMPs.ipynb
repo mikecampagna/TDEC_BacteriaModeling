{
 "cells": [
  {
   "cell_type": "markdown",
   "metadata": {},
   "source": [
    "#### TDEC Bacteria Reduction BMP App"
   ]
  },
  {
   "cell_type": "code",
   "execution_count": 2,
   "metadata": {},
   "outputs": [],
   "source": [
    "import json\n",
    "from bacteria_model import WatershedTreatmentModel"
   ]
  },
  {
   "cell_type": "code",
   "execution_count": 1,
   "metadata": {},
   "outputs": [],
   "source": [
    "from ipyleaflet import Map, basemaps, Polygon, DrawControl, WidgetControl, GeoJSON, MeasureControl, basemap_to_tiles, SplitMapControl\n",
    "import ipywidgets as widgets\n",
    "from ipywidgets import IntSlider, ColorPicker, jslink, Dropdown, interact, FloatSlider\n",
    "from ipyleaflet import Map, basemaps, Polygon, DrawControl, WidgetControl, GeoJSON, MeasureControl, basemap_to_tiles, SplitMapControl\n",
    "import ipywidgets as widgets\n",
    "from ipywidgets import IntSlider, ColorPicker, jslink, Dropdown, interact, FloatSlider\n",
    "import requests\n",
    "import geojson\n",
    "import json\n",
    "import shapely\n",
    "from shapely.geometry import mapping, MultiPolygon, Polygon, LineString, Point\n",
    "import matplotlib.pyplot as plt\n",
    "import collections\n",
    "from math import sqrt\n",
    "import numpy as np\n",
    "from shapely.ops import unary_union"
   ]
  },
  {
   "cell_type": "code",
   "execution_count": null,
   "metadata": {},
   "outputs": [],
   "source": []
  }
 ],
 "metadata": {
  "kernelspec": {
   "display_name": "tdec",
   "language": "python",
   "name": "tdec"
  },
  "language_info": {
   "codemirror_mode": {
    "name": "ipython",
    "version": 3
   },
   "file_extension": ".py",
   "mimetype": "text/x-python",
   "name": "python",
   "nbconvert_exporter": "python",
   "pygments_lexer": "ipython3",
   "version": "3.7.10"
  }
 },
 "nbformat": 4,
 "nbformat_minor": 2
}
